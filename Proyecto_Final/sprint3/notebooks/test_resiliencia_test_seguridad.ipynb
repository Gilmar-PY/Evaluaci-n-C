{
  "nbformat": 4,
  "nbformat_minor": 0,
  "metadata": {
    "colab": {
      "provenance": []
    },
    "kernelspec": {
      "name": "python3",
      "display_name": "Python 3"
    },
    "language_info": {
      "name": "python"
    }
  },
  "cells": [
    {
      "cell_type": "markdown",
      "source": [
        "**test_resiliencia**"
      ],
      "metadata": {
        "id": "yhGDDnPUOFse"
      }
    },
    {
      "cell_type": "code",
      "source": [
        "# test_resiliencia.py\n",
        "\n",
        "import requests\n",
        "import docker\n",
        "import time\n",
        "\n",
        "# Configuración\n",
        "client = docker.from_env()\n",
        "url_cargar = 'http://localhost:5000/cargar'\n",
        "url_descargar = 'http://localhost:5000/descargar/Actividad.txt'\n",
        "\n",
        "# Cargar archivo\n",
        "files = {'archivo': open('Actividad.txt', 'rb')}\n",
        "response = requests.post(url_cargar, files=files)\n",
        "print(\"Archivo cargado exitosamente. Ejecutando prueba de fallo de nodo...\")\n",
        "\n",
        "# Simular fallo de nodo\n",
        "try:\n",
        "    container = client.containers.get('storage-node-1')\n",
        "    container.stop()\n",
        "    print(\"Nodo storage-node-1 detenido.\")\n",
        "\n",
        "    # Esperar un momento\n",
        "    time.sleep(5)\n",
        "\n",
        "    # Intentar descargar el archivo\n",
        "    response = requests.get(url_descargar)\n",
        "    with open('descargado_resiliencia.txt', 'wb') as f:\n",
        "        f.write(response.content)\n",
        "\n",
        "    print(\"Archivo descargado exitosamente después del fallo del nodo.\")\n",
        "\n",
        "    # Reiniciar el nodo\n",
        "    container.start()\n",
        "    print(\"Nodo storage-node-1 reiniciado.\")\n",
        "except Exception as e:\n",
        "    print(f\"Error durante la prueba de fallo de nodo: {e}\")\n"
      ],
      "metadata": {
        "id": "Qr3JfeItNofE"
      },
      "execution_count": null,
      "outputs": []
    },
    {
      "cell_type": "markdown",
      "source": [
        "### Explicación Detallada\n",
        "\n",
        "Este script `test_resiliencia.py` se utiliza para probar la resiliencia del sistema de almacenamiento distribuido simulando un fallo en uno de los nodos y verificando que el sistema sigue siendo capaz de descargar los archivos replicados desde otros nodos. A continuación, se presenta una explicación detallada del código:\n",
        "\n",
        "#### Importar Librerías\n",
        "\n",
        "- `requests`: Para realizar solicitudes HTTP.\n",
        "- `docker`: Para interactuar con los contenedores Docker.\n",
        "- `time`: Para agregar retrasos en la ejecución del script.\n",
        "\n",
        "#### Configuración\n",
        "\n",
        "- `client`: Se inicializa el cliente Docker utilizando la configuración del entorno.\n",
        "- `url_cargar` y `url_descargar`: URLs para cargar y descargar archivos desde el sistema de almacenamiento distribuido.\n",
        "\n",
        "#### Cargar Archivo\n",
        "\n",
        "- `files`: Se abre el archivo `Actividad.txt` en modo lectura binaria.\n",
        "- `response`: Se envía una solicitud POST para cargar el archivo en el sistema.\n",
        "- Mensaje de confirmación de carga exitosa.\n",
        "\n",
        "#### Simular Fallo de Nodo\n",
        "\n",
        "- **Detener el nodo:**\n",
        "  - `container`: Obtiene el contenedor `storage-node-1`.\n",
        "  - `container.stop()`: Detiene el contenedor.\n",
        "  - Mensaje de confirmación de detención del nodo.\n",
        "\n",
        "- **Esperar:**\n",
        "  - `time.sleep(5)`: Espera 5 segundos para simular el tiempo de inactividad del nodo.\n",
        "\n",
        "- **Descargar Archivo:**\n",
        "  - `response`: Se envía una solicitud GET para descargar el archivo desde el sistema.\n",
        "  - `with open('descargado_resiliencia.txt', 'wb') as f`: Se guarda el contenido del archivo descargado en `descargado_resiliencia.txt`.\n",
        "  - Mensaje de confirmación de descarga exitosa.\n",
        "\n",
        "- **Reiniciar el nodo:**\n",
        "  - `container.start()`: Reinicia el contenedor detenido.\n",
        "  - Mensaje de confirmación de reinicio del nodo.\n",
        "\n",
        "- **Manejo de errores:**\n",
        "  - `except Exception as e`: Captura y muestra cualquier error ocurrido durante la prueba de fallo del nodo.\n"
      ],
      "metadata": {
        "id": "Bnc7ad8UMAJ3"
      }
    },
    {
      "cell_type": "markdown",
      "source": [
        "**test_seguridad**"
      ],
      "metadata": {
        "id": "aVg4TT1ON4Of"
      }
    },
    {
      "cell_type": "code",
      "source": [
        "### Código Completo\n",
        "import requests\n",
        "from Crypto.Cipher import AES\n",
        "import os\n",
        "\n",
        "# Configuración\n",
        "key = b'This_is_a16b_key'\n",
        "UPLOAD_FOLDER = 'cargas'\n",
        "os.makedirs(UPLOAD_FOLDER, exist_ok=True)\n",
        "url_cargar = 'http://localhost:5000/cargar'\n",
        "\n",
        "# Cargar archivo\n",
        "files = {'archivo': open('Actividad.txt', 'rb')}\n",
        "response = requests.post(url_cargar, files=files)\n",
        "print(response.text)\n",
        "\n",
        "print(\"Carga exitosa. Probando acceso sin clave...\")\n",
        "\n",
        "# Intentar descifrar sin clave correcta\n",
        "ruta_archivo = os.path.join(UPLOAD_FOLDER, 'Actividad.txt')\n",
        "try:\n",
        "    with open(ruta_archivo, 'rb') as file_enc:\n",
        "        nonce = file_enc.read(16)\n",
        "        tag = file_enc.read(16)\n",
        "        ciphertext = file_enc.read()\n",
        "\n",
        "    cipher = AES.new(b'Incorrect_Key123', AES.MODE_EAX, nonce=nonce)\n",
        "    data = cipher.decrypt_and_verify(ciphertext, tag)\n",
        "    print(\"Prueba de seguridad fallida: Se pudo descifrar el archivo con una clave incorrecta.\")\n",
        "except Exception as e:\n",
        "    print(\"Prueba de seguridad exitosa: No se pudo descifrar el archivo con una clave incorrecta.\")"
      ],
      "metadata": {
        "collapsed": true,
        "id": "WngqwxY1MEzI"
      },
      "execution_count": null,
      "outputs": []
    },
    {
      "cell_type": "markdown",
      "source": [
        "\n",
        "\n",
        "\n",
        "### Explicación General del Código\n",
        "\n",
        "Este script se utiliza para probar la seguridad del sistema de almacenamiento distribuido asegurándose de que los datos cifrados no se puedan acceder sin la clave correcta. A continuación, se presenta una explicación general del código:\n",
        "\n",
        "#### Importar Librerías\n",
        "\n",
        "- `requests`: Para realizar solicitudes HTTP.\n",
        "- `Crypto.Cipher.AES`: Para cifrar y descifrar datos utilizando el algoritmo AES.\n",
        "- `os`: Para manipular rutas y directorios del sistema de archivos.\n",
        "\n",
        "#### Configuración\n",
        "\n",
        "- `key`: Clave de cifrado utilizada para cifrar los datos (debe ser de 16 bytes).\n",
        "- `UPLOAD_FOLDER`: Carpeta donde se almacenan los archivos cargados. Se crea si no existe.\n",
        "- `url_cargar`: URL para cargar archivos en el sistema de almacenamiento distribuido.\n",
        "\n",
        "#### Cargar Archivo\n",
        "\n",
        "- `files`: Se abre el archivo `Actividad.txt` en modo lectura binaria.\n",
        "- `response`: Se envía una solicitud POST para cargar el archivo en el sistema.\n",
        "- Mensaje de confirmación de carga exitosa.\n",
        "\n",
        "#### Intentar Descifrar sin Clave Correcta\n",
        "\n",
        "- `ruta_archivo`: Ruta del archivo cifrado en la carpeta de cargas.\n",
        "- Intentar descifrar el archivo utilizando una clave incorrecta.\n",
        "- Si la descifrada es exitosa, se muestra un mensaje indicando que la prueba de seguridad falló.\n",
        "- Si ocurre una excepción, se muestra un mensaje indicando que la prueba de seguridad fue exitosa porque no se pudo descifrar el archivo con una clave incorrecta."
      ],
      "metadata": {
        "id": "95RY5KSCMcu5"
      }
    }
  ]
}