{
  "nbformat": 4,
  "nbformat_minor": 0,
  "metadata": {
    "colab": {
      "provenance": []
    },
    "kernelspec": {
      "name": "python3",
      "display_name": "Python 3"
    },
    "language_info": {
      "name": "python"
    }
  },
  "cells": [
    {
      "cell_type": "markdown",
      "source": [
        "# Sistema de Almacenamiento Distribuido\n",
        "\n",
        "Este cuaderno explica el código de un sistema de almacenamiento distribuido, que incluye cifrado y replicación de datos. A continuación, se detalla cada bloque de código y su funcionalidad.\n",
        "\n",
        "## Importar Librerías Necesarias\n",
        "\n",
        "Primero, importamos las librerías necesarias para la aplicación."
      ],
      "metadata": {
        "id": "WrvikAzjJ-E0"
      }
    },
    {
      "cell_type": "code",
      "source": [
        "\n",
        "from flask import Flask, request, send_file, jsonify\n",
        "from Crypto.Cipher import AES\n",
        "import os\n",
        "import logging\n",
        "import asyncio\n",
        "import aiohttp\n",
        "import threading\n",
        "from queue import Queue\n"
      ],
      "metadata": {
        "id": "JgJMI4D2CMNm"
      },
      "execution_count": null,
      "outputs": []
    },
    {
      "cell_type": "markdown",
      "source": [
        "\n",
        "- **Flask:** Microframework para construir aplicaciones web, permitiendo manejar solicitudes HTTP.\n",
        "- **Crypto.Cipher.AES:** Librería para el cifrado de datos utilizando el estándar AES (Advanced Encryption Standard), que es un algoritmo de cifrado simétrico ampliamente utilizado.\n",
        "- **os:** Módulo para interactuar con el sistema operativo, permitiendo manipular archivos y directorios.\n",
        "- **logging:** Módulo para generar registros de eventos, útil para el diagnóstico y solución de problemas.\n",
        "- **asyncio y aiohttp:** Librerías para manejar operaciones asíncronas, permitiendo realizar múltiples tareas de forma concurrente sin bloquear el flujo del programa.\n",
        "- **threading y Queue:** Módulos para manejar operaciones concurrentes utilizando hilos y colas, lo que permite ejecutar varias operaciones al mismo tiempo."
      ],
      "metadata": {
        "id": "CLorWZC4CX88"
      }
    },
    {
      "cell_type": "markdown",
      "source": [
        "**Configuración Inicial**\n",
        "\n",
        "Configuramos las constantes y creamos las carpetas necesarias."
      ],
      "metadata": {
        "id": "NTQYoKfiCe1S"
      }
    },
    {
      "cell_type": "code",
      "source": [
        "UPLOAD_FOLDER = '/app/cargas'\n",
        "key = b'This_is_a16b_key'\n",
        "NODOS = [\"http://storage-node-1:5000\", \"http://storage-node-2:5000\"]\n",
        "\n",
        "os.makedirs(UPLOAD_FOLDER, exist_ok=True)\n",
        "logging.basicConfig(level=logging.DEBUG)\n"
      ],
      "metadata": {
        "id": "qIBMV1VUCXmF"
      },
      "execution_count": null,
      "outputs": []
    },
    {
      "cell_type": "markdown",
      "source": [
        "- **UPLOAD_FOLDER:** Especifica el directorio donde se almacenarán los archivos cargados.\n",
        "- **key:** Clave de cifrado AES utilizada para cifrar y descifrar los datos.\n",
        "- **NODOS:** Lista de URLs de los nodos donde se replicarán los archivos, asegurando redundancia y disponibilidad.\n",
        "- **os.makedirs:** Crea el directorio de carga si no existe, asegurando que siempre haya un lugar para guardar los archivos.\n",
        "- **logging.basicConfig:** Configura el nivel de registro a DEBUG para capturar información detallada durante la ejecución del programa.\n"
      ],
      "metadata": {
        "id": "KR8a8tx4CqVb"
      }
    },
    {
      "cell_type": "markdown",
      "source": [
        "**Función de Cifrado**\n",
        "\n",
        "Función para cifrar datos utilizando AES."
      ],
      "metadata": {
        "id": "RCaOzm32C6Vy"
      }
    },
    {
      "cell_type": "code",
      "execution_count": null,
      "metadata": {
        "id": "at2j0d8lB-52"
      },
      "outputs": [],
      "source": [
        "def cifrar_archivo(data):\n",
        "    cipher = AES.new(key, AES.MODE_EAX)\n",
        "    ciphertext, tag = cipher.encrypt_and_digest(data)\n",
        "    return cipher.nonce, tag, ciphertext\n"
      ]
    },
    {
      "cell_type": "markdown",
      "source": [
        "- **cifrar_archivo:** Cifra los datos utilizando la clave AES. El método `encrypt_and_digest` genera el texto cifrado (ciphertext) y un tag que asegura la integridad de los datos. El nonce es un valor único utilizado para este cifrado específico, asegurando que cada cifrado sea único incluso si los datos son los mismos."
      ],
      "metadata": {
        "id": "merq5PQXDDd7"
      }
    },
    {
      "cell_type": "markdown",
      "source": [
        "**Función de Descifrado**\n",
        "\n",
        "Función para descifrar datos utilizando AES."
      ],
      "metadata": {
        "id": "mpK1comwDMeb"
      }
    },
    {
      "cell_type": "code",
      "source": [
        "def descifrar_archivo(nonce, tag, ciphertext):\n",
        "    cipher = AES.new(key, AES.MODE_EAX, nonce=nonce)\n",
        "    data = cipher.decrypt_and_verify(ciphertext, tag)\n",
        "    return data\n"
      ],
      "metadata": {
        "id": "GFsg0CZxDOxV"
      },
      "execution_count": null,
      "outputs": []
    },
    {
      "cell_type": "markdown",
      "source": [
        "- **descifrar_archivo:** Descifra los datos utilizando la clave AES y el nonce. Verifica la integridad de los datos usando el tag. Si los datos han sido alterados, la verificación fallará y se lanzará una excepción."
      ],
      "metadata": {
        "id": "aveq_o7NDTld"
      }
    },
    {
      "cell_type": "markdown",
      "source": [
        "**Función Asíncrona para Replicar Archivos**\n",
        "\n",
        "Función para replicar archivos a otros nodos de manera asíncrona."
      ],
      "metadata": {
        "id": "pyVuSbzYDZi5"
      }
    },
    {
      "cell_type": "code",
      "source": [
        "async def replicar_archivo_async(nodo, ruta_archivo, nonce, tag):\n",
        "    try:\n",
        "        form = aiohttp.FormData()\n",
        "        with open(ruta_archivo, 'rb') as file_enc:\n",
        "            data = file_enc.read()\n",
        "        form.add_field('archivo', data, filename=os.path.basename(ruta_archivo))\n",
        "        form.add_field('nonce', nonce.hex())\n",
        "        form.add_field('tag', tag.hex())\n",
        "        async with aiohttp.ClientSession() as session:\n",
        "            async with session.post(f\"{nodo}/cargar\", data=form) as response:\n",
        "                if response.status != 200:\n",
        "                    logging.error(f\"Error replicando en {nodo}: {response.status}\")\n",
        "                else:\n",
        "                    logging.debug(f\"Replicación en {nodo} completada con estado {response.status}\")\n",
        "    except Exception as e:\n",
        "        logging.error(f\"Error replicando en {nodo}: {e}\")\n"
      ],
      "metadata": {
        "id": "8DiqsFRBDWUW"
      },
      "execution_count": null,
      "outputs": []
    },
    {
      "cell_type": "markdown",
      "source": [
        "- **replicar_archivo_async:** Envía los datos cifrados a otro nodo de manera asíncrona utilizando `aiohttp`. Esta función se ejecuta de forma no bloqueante, permitiendo que el programa continúe ejecutándose mientras espera la respuesta del servidor remoto."
      ],
      "metadata": {
        "id": "Q5lFEbFbDjBJ"
      }
    },
    {
      "cell_type": "markdown",
      "source": [
        "**Función para Replicar Archivos**\n",
        "\n",
        "Función para iniciar la replicación de archivos."
      ],
      "metadata": {
        "id": "wioryrKiDrXj"
      }
    },
    {
      "cell_type": "code",
      "source": [
        "def replicar_archivo(nodo, ruta_archivo, nonce, tag):\n",
        "    loop = asyncio.new_event_loop()\n",
        "    asyncio.set_event_loop(loop)\n",
        "    loop.run_until_complete(replicar_archivo_async(nodo, ruta_archivo, nonce, tag))\n",
        "    loop.close()\n"
      ],
      "metadata": {
        "id": "rFlZ-5jADvsb"
      },
      "execution_count": null,
      "outputs": []
    },
    {
      "cell_type": "markdown",
      "source": [
        "- **replicar_archivo:** Crea un nuevo bucle de eventos `asyncio` para ejecutar la replicación de archivos. Esta función se utiliza para iniciar la función asíncrona `replicar_archivo_async`.\n"
      ],
      "metadata": {
        "id": "9lZJuZ9nDz3M"
      }
    },
    {
      "cell_type": "markdown",
      "source": [
        "**Función de Carga de Archivos**\n",
        "\n",
        "Función para cargar archivos en el sistema, cifrarlos y replicarlos a otros nodos."
      ],
      "metadata": {
        "id": "Oupx6W6YD65V"
      }
    },
    {
      "cell_type": "code",
      "source": [
        "@app.route('/cargar', methods=['POST'])\n",
        "def cargar_archivo():\n",
        "    archivo = request.files['archivo']\n",
        "    ruta_archivo = os.path.join(UPLOAD_FOLDER, archivo.filename)\n",
        "\n",
        "    try:\n",
        "        # Cifrar el archivo\n",
        "        nonce, tag, ciphertext = cifrar_archivo(archivo.read())\n",
        "\n",
        "        # Guardar el archivo cifrado\n",
        "        with open(ruta_archivo, 'wb') as file_enc:\n",
        "            file_enc.write(nonce)\n",
        "            file_enc.write(tag)\n",
        "            file_enc.write(ciphertext)\n",
        "\n",
        "        # Replicar el archivo en otros nodos\n",
        "        for nodo in NODOS:\n",
        "            queue.put((nodo, ruta_archivo, nonce, tag))\n",
        "\n",
        "        logging.debug(f\"Archivo {archivo.filename} cargado y cifrado exitosamente\")\n",
        "        return 'Archivo cargado y cifrado exitosamente', 200\n",
        "    except Exception as e:\n",
        "        logging.error(f\"Error al cargar y cifrar el archivo: {e}\")\n",
        "        return jsonify({'error': f'Error al cargar y cifrar el archivo: {e}'}), 500\n"
      ],
      "metadata": {
        "id": "cbnmwkkZD-wn"
      },
      "execution_count": null,
      "outputs": []
    },
    {
      "cell_type": "markdown",
      "source": [
        "- **cargar_archivo:** Cifra el archivo recibido utilizando AES y lo guarda en el sistema. Luego, pone la tarea de replicar el archivo en una cola para que los hilos worker la procesen. La respuesta de éxito o error se devuelve al cliente."
      ],
      "metadata": {
        "id": "C5eyrEqrECPO"
      }
    },
    {
      "cell_type": "markdown",
      "source": [
        "**Función de Descarga de Archivos**\n",
        "\n",
        "Función para descargar y descifrar archivos del sistema."
      ],
      "metadata": {
        "id": "pAKr6rVNEJ60"
      }
    },
    {
      "cell_type": "code",
      "source": [
        "@app.route('/descargar/<nombre_archivo>', methods=['GET'])\n",
        "def descargar_archivo(nombre_archivo):\n",
        "    try:\n",
        "        ruta_archivo = os.path.join(UPLOAD_FOLDER, nombre_archivo)\n",
        "        with open(ruta_archivo, 'rb') as file_enc:\n",
        "            nonce = file_enc.read(16)\n",
        "            tag = file_enc.read(16)\n",
        "            ciphertext = file_enc.read()\n",
        "\n",
        "        data = descifrar_archivo(nonce, tag, ciphertext)\n",
        "        temp_file_path = os.path.join(UPLOAD_FOLDER, f\"temp_{nombre_archivo}\")\n",
        "        with open(temp_file_path, 'wb') as temp_file:\n",
        "            temp_file.write(data)\n",
        "\n",
        "        return send_file(temp_file_path, as_attachment=True, download_name=nombre_archivo)\n",
        "    except Exception as e:\n",
        "        logging.error(f\"Error al descargar y descifrar el archivo: {e}\")\n",
        "        return jsonify({'error': f'Error al descargar y descifrar el archivo: {e}'}), 500\n"
      ],
      "metadata": {
        "id": "l-7gl83kET-4"
      },
      "execution_count": null,
      "outputs": []
    },
    {
      "cell_type": "markdown",
      "source": [
        "- **descargar_archivo:** Lee y descifra el archivo solicitado, luego lo guarda temporalmente en el servidor y lo envía al cliente. Si ocurre un error durante el proceso, se registra y se envía una respuesta de error al cliente.\n"
      ],
      "metadata": {
        "id": "hjsVFJChEYLa"
      }
    },
    {
      "cell_type": "markdown",
      "source": [
        "**Función de Eliminación de Archivos**\n",
        "\n",
        "Función para eliminar archivos del sistema."
      ],
      "metadata": {
        "id": "dMspkW9lEdIh"
      }
    },
    {
      "cell_type": "code",
      "source": [
        "@app.route('/eliminar/<nombre_archivo>', methods=['DELETE'])\n",
        "def eliminar_archivo(nombre_archivo):\n",
        "    ruta_archivo = os.path.join(UPLOAD_FOLDER, nombre_archivo)\n",
        "    try:\n",
        "        os.remove(ruta_archivo)\n",
        "        logging.info(f\"Archivo {nombre_archivo} eliminado exitosamente\")\n",
        "        return 'Archivo eliminado exitosamente', 200\n",
        "    except Exception as e:\n",
        "        logging.error(f\"Error al eliminar el archivo: {e}\")\n",
        "        return jsonify({'error': 'Error al eliminar el archivo'}), 500\n"
      ],
      "metadata": {
        "id": "MxNDKXwhEJSd"
      },
      "execution_count": null,
      "outputs": []
    },
    {
      "cell_type": "markdown",
      "source": [
        "- **eliminar_archivo:** Elimina el archivo especificado del sistema. Si el archivo se elimina correctamente, se devuelve un mensaje de éxito; de lo contrario, se registra y se devuelve un error."
      ],
      "metadata": {
        "id": "QzjYxkwqEliO"
      }
    },
    {
      "cell_type": "markdown",
      "source": [
        "**Función Worker**\n",
        "\n",
        "Función worker para manejar la replicación de archivos en segundo plano."
      ],
      "metadata": {
        "id": "Msc_eOsrEwT8"
      }
    },
    {
      "cell_type": "code",
      "source": [
        "def worker():\n",
        "    while True:\n",
        "        nodo, ruta_archivo, nonce, tag = queue.get()\n",
        "        if nodo is None:\n",
        "            break\n",
        "        replicar_archivo(nodo, ruta_archivo, nonce, tag)\n",
        "        queue.task_done()\n"
      ],
      "metadata": {
        "id": "KfJHVBxlEukp"
      },
      "execution_count": null,
      "outputs": []
    },
    {
      "cell_type": "markdown",
      "source": [
        "- **worker:** Toma las tareas de replicación de la cola y las procesa. Si recibe una tarea nula, termina su ejecución. Esta función se ejecuta en hilos separados para permitir la replicación concurrente.\n"
      ],
      "metadata": {
        "id": "U7q8EffNE3I0"
      }
    },
    {
      "cell_type": "markdown",
      "source": [
        "**Configuración de la Cola y los Hilos**\n",
        "\n",
        "Configuración para iniciar los hilos worker."
      ],
      "metadata": {
        "id": "QulhecodE8p5"
      }
    },
    {
      "cell_type": "code",
      "source": [
        "num_worker_threads = 5\n",
        "queue = Queue()\n",
        "\n",
        "threads = []\n",
        "for _ in range(num_worker_threads):\n",
        "    t = threading.Thread(target=worker)\n",
        "    t.start()\n",
        "    threads.append(t)\n"
      ],
      "metadata": {
        "id": "PvYFy6WkFCUB"
      },
      "execution_count": null,
      "outputs": []
    },
    {
      "cell_type": "markdown",
      "source": [
        "- **num_worker_threads:** Especifica el número de hilos worker.\n",
        "- **queue:** Cola para manejar las tareas de replicación.\n",
        "- **threads:** Lista de hilos worker que se inician y ejecutan la función `worker`."
      ],
      "metadata": {
        "id": "-PhFwgHAFFjh"
      }
    },
    {
      "cell_type": "markdown",
      "source": [
        "**[nicio de la Aplicación](https://)**\n",
        "\n",
        "Código para iniciar la aplicación Flask."
      ],
      "metadata": {
        "id": "krVkqcfFFMRM"
      }
    },
    {
      "cell_type": "code",
      "source": [
        "if __name__ == \"__main__\":\n",
        "    try:\n",
        "        app.run(host=\"0.0.0.0\", port=5000, debug=True)\n",
        "    finally:\n",
        "        for _ in range(num_worker_threads):\n",
        "            queue.put((None, None, None, None))\n",
        "        for t in threads:\n",
        "            t.join()\n"
      ],
      "metadata": {
        "id": "BYD9QvBeFQsk"
      },
      "execution_count": null,
      "outputs": []
    },
    {
      "cell_type": "markdown",
      "source": [
        "\n",
        "- **app.run:** Inicia la aplicación Flask en el puerto 5000.\n",
        "- **queue.put:** Agrega una tarea nula para cada hilo worker para que puedan terminar su ejecución de manera ordenada.\n",
        "- **threads.join:** Espera a que todos los hilos terminen antes de cerrar la aplicación.\n",
        "\n",
        "\n"
      ],
      "metadata": {
        "id": "t9owxTn-FQL8"
      }
    },
    {
      "cell_type": "markdown",
      "source": [],
      "metadata": {
        "id": "fdeS8WnACLdu"
      }
    }
  ]
}