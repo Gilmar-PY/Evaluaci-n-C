{
 "cells": [
  {
   "cell_type": "markdown",
   "id": "d9035a28",
   "metadata": {},
   "source": [
    "### Actividad:  repaso de threading, multiprocessing, asyncio, concurrent.futures"
   ]
  },
  {
   "cell_type": "markdown",
   "id": "87f4a495",
   "metadata": {},
   "source": [
    "#### Ejercicio 1: Uso básico de threading\n",
    "\n",
    "Crea un script que inicie 5 hilos. Cada hilo debe imprimir un mensaje que indique su número de identificación (ID) y luego esperar un tiempo aleatorio entre 1 y 5 segundos antes de finalizar."
   ]
  },
  {
   "cell_type": "code",
   "execution_count": null,
   "id": "670436a7",
   "metadata": {},
   "outputs": [],
   "source": [
    "## Tu respuesta"
   ]
  },
  {
   "cell_type": "markdown",
   "id": "e62c3704",
   "metadata": {},
   "source": [
    "#### Ejercicio 2: Uso de multiprocessing\n",
    "\n",
    "Escribe un programa que utilice multiprocessing para calcular el factorial de diferentes números de forma paralela. Usa los números 5, 7, y 9.\n",
    "\n"
   ]
  },
  {
   "cell_type": "code",
   "execution_count": null,
   "id": "30bbd94b",
   "metadata": {},
   "outputs": [],
   "source": [
    "## Tu respuesta"
   ]
  },
  {
   "cell_type": "markdown",
   "id": "681d084c",
   "metadata": {},
   "source": [
    "#### Ejercicio 3: Uso de asyncio\n",
    "\n",
    "Utiliza asyncio para simular la descarga de tres archivos de manera asíncrona. Los tiempos de \"descarga\" deben ser de 3, 5 y 7 segundos respectivamente."
   ]
  },
  {
   "cell_type": "code",
   "execution_count": null,
   "id": "e83d2ac9",
   "metadata": {},
   "outputs": [],
   "source": [
    "## Tu respuesta"
   ]
  },
  {
   "cell_type": "markdown",
   "id": "3be8cd64",
   "metadata": {},
   "source": [
    "#### Ejercicio 4: Uso de concurrent.futures con ThreadPoolExecutor\n",
    "\n",
    "Escribe un programa que utilice un ThreadPoolExecutor para realizar un cálculo simple (como la suma de números) en varios hilos. Utiliza un rango de números del 1 al 10."
   ]
  },
  {
   "cell_type": "code",
   "execution_count": null,
   "id": "451cc67f",
   "metadata": {},
   "outputs": [],
   "source": [
    "## Tu respuesta"
   ]
  },
  {
   "cell_type": "markdown",
   "id": "2956d07c",
   "metadata": {},
   "source": [
    "#### Ejercicio 5: Uso de asyncio con corutinas\n",
    "\n",
    "Implementa un programa con asyncio que simule un reloj, mostrando cada segundo un mensaje que indica cuántos segundos han pasado, hasta un total de 10 segundos.\n",
    "\n"
   ]
  },
  {
   "cell_type": "code",
   "execution_count": null,
   "id": "319eafdd",
   "metadata": {},
   "outputs": [],
   "source": [
    "## Tu respuesta"
   ]
  },
  {
   "cell_type": "markdown",
   "id": "f1ba7bd3",
   "metadata": {},
   "source": [
    "#### Ejercicio 6: Uso de multiprocessing con Pool\n",
    "\n",
    "Utiliza un Pool de procesos en multiprocessing para aplicar una función que calcule el cuadrado de un número a una lista de números del 1 al 10 de manera paralela."
   ]
  },
  {
   "cell_type": "code",
   "execution_count": null,
   "id": "1f2e9d7e",
   "metadata": {},
   "outputs": [],
   "source": [
    "## Tu respuesta"
   ]
  },
  {
   "cell_type": "markdown",
   "id": "9125cb6b",
   "metadata": {},
   "source": [
    "#### Ejercicio 7: Programación funcional con map y reduce\n",
    "\n",
    "Implementa un script que use map para convertir todas las palabras en una lista a mayúsculas, y luego use reduce para concatenarlas en una sola cadena separada por comas."
   ]
  },
  {
   "cell_type": "code",
   "execution_count": null,
   "id": "2fabf96e",
   "metadata": {},
   "outputs": [],
   "source": [
    "## Tu respuesta"
   ]
  },
  {
   "cell_type": "markdown",
   "id": "8581ea0d",
   "metadata": {},
   "source": [
    "#### Ejercicio 8: Crear un microservicio simple con Flask\n",
    "\n",
    "Desarrolla un microservicio básico usando Flask que tenga un endpoint /api/square que acepte un número y devuelva su cuadrado."
   ]
  },
  {
   "cell_type": "code",
   "execution_count": null,
   "id": "4d4e4f68",
   "metadata": {},
   "outputs": [],
   "source": [
    "## Tu respuesta"
   ]
  },
  {
   "cell_type": "markdown",
   "id": "c6425434",
   "metadata": {},
   "source": [
    "#### Ejercicio 9: Uso de asyncio y aiohttp para hacer peticiones HTTP concurrentes\n",
    "\n",
    "Escribe un script que use asyncio y aiohttp para hacer peticiones a tres URLs diferentes de manera concurrente y recolecte sus resultados."
   ]
  },
  {
   "cell_type": "code",
   "execution_count": null,
   "id": "33081ab5",
   "metadata": {},
   "outputs": [],
   "source": [
    "## Tu respuesta"
   ]
  },
  {
   "cell_type": "markdown",
   "id": "f8307ddb",
   "metadata": {},
   "source": [
    "#### Ejercicio 10: Uso de concurrent.futures para procesamiento distribuido\n",
    "\n",
    "Implementa un script que use concurrent.futures y ThreadPoolExecutor para calcular el resultado de aplicar una función compleja (como el cálculo de la serie Fibonacci) a diferentes entradas de manera distribuida."
   ]
  },
  {
   "cell_type": "code",
   "execution_count": null,
   "id": "a5b9cf2d",
   "metadata": {},
   "outputs": [],
   "source": [
    "## Tu respuesta"
   ]
  },
  {
   "cell_type": "markdown",
   "id": "57794ad7",
   "metadata": {},
   "source": [
    "#### Ejercicio 11: Uso de asyncio con manejo de excepciones\n",
    "\n",
    "Desarrolla un script utilizando asyncio que realice peticiones HTTP a varios endpoints. Utiliza manejo de excepciones para tratar adecuadamente los errores de conexión y otros errores HTTP."
   ]
  },
  {
   "cell_type": "code",
   "execution_count": null,
   "id": "de26f182",
   "metadata": {},
   "outputs": [],
   "source": [
    "## Tu respuesta"
   ]
  },
  {
   "cell_type": "markdown",
   "id": "7efcc045",
   "metadata": {},
   "source": [
    "#### Ejercicio 12: Multiprocessing con uso de Queue para intercambio de datos\n",
    "\n",
    "Implementa un programa que use multiprocessing donde varios procesos productores generan números aleatorios y un consumidor los suma. Usa Queue para la comunicación entre procesos."
   ]
  },
  {
   "cell_type": "code",
   "execution_count": null,
   "id": "9addd445",
   "metadata": {},
   "outputs": [],
   "source": [
    "## Tu respuesta"
   ]
  },
  {
   "cell_type": "markdown",
   "id": "22e12feb",
   "metadata": {},
   "source": [
    "#### Ejercicio 13: Microservicios con comunicación entre servicios\n",
    "\n",
    "Crea dos microservicios con Flask. El primero genera un número aleatorio. El segundo servicio recibe ese número, lo eleva al cuadrado y devuelve el resultado. Implementa la comunicación entre ambos servicios."
   ]
  },
  {
   "cell_type": "code",
   "execution_count": null,
   "id": "d7be27cf",
   "metadata": {},
   "outputs": [],
   "source": [
    "## Tu respuesta"
   ]
  },
  {
   "cell_type": "markdown",
   "id": "37af689d",
   "metadata": {},
   "source": [
    "#### Ejercicio 14: Uso de concurrent.futures para scraping de datos\n",
    "\n",
    "Implementa un programa que utilice concurrent.futures para hacer scraping de datos de varias páginas web de manera concurrente y recolecte datos específicos.\n",
    "\n"
   ]
  },
  {
   "cell_type": "code",
   "execution_count": null,
   "id": "ee525dd1",
   "metadata": {},
   "outputs": [],
   "source": [
    "## Tu respuesta"
   ]
  },
  {
   "cell_type": "markdown",
   "id": "5bd12f0b",
   "metadata": {},
   "source": [
    "#### Ejercicio 15: Sistema de procesamiento de comandos paralelo\n",
    "\n",
    "Implementa un sistema que utilice concurrent.futures para ejecutar comandos del sistema operativo en paralelo, recolectar sus salidas, y procesar los resultados de forma concurrente.\n"
   ]
  },
  {
   "cell_type": "code",
   "execution_count": null,
   "id": "4872046b",
   "metadata": {},
   "outputs": [],
   "source": [
    "## Tu respuesta"
   ]
  },
  {
   "cell_type": "markdown",
   "id": "79f86b69",
   "metadata": {},
   "source": [
    "#### Ejercicio 16: Plataforma de análisis de datos distribuidos\n",
    "\n",
    "Crea una plataforma de análisis de datos que utilice multiprocessing y concurrent.futures para procesar grandes volúmenes de datos distribuidos entre varios procesos, realizando cálculos estadísticos y generación de reportes."
   ]
  },
  {
   "cell_type": "code",
   "execution_count": null,
   "id": "cd904f0e",
   "metadata": {},
   "outputs": [],
   "source": [
    "## Tu respuesta"
   ]
  },
  {
   "cell_type": "markdown",
   "id": "10327651",
   "metadata": {},
   "source": [
    "#### Ejercicio 17:Descarga de imágenes en paralelo con concurrent.futures\n",
    "\n",
    "Escribe un script que utilice concurrent.futures para descargar imágenes en paralelo. Debes descargar al menos cinco imágenes de URLs especificadas y guardarlas en el disco localmente.\n"
   ]
  },
  {
   "cell_type": "code",
   "execution_count": null,
   "id": "2e99aa29",
   "metadata": {},
   "outputs": [],
   "source": [
    "## Tu respuesta"
   ]
  },
  {
   "cell_type": "markdown",
   "id": "89409b3e",
   "metadata": {},
   "source": [
    "#### Ejercicio 18: Asincronía con asyncio\n",
    "\n",
    "Escribe un script que utilice asyncio para realizar peticiones HTTP asincrónicas a tres APIs diferentes y recolecte sus respuestas.\n",
    "\n"
   ]
  },
  {
   "cell_type": "code",
   "execution_count": null,
   "id": "df8a3f64",
   "metadata": {},
   "outputs": [],
   "source": [
    "## Tu respuesta"
   ]
  },
  {
   "cell_type": "markdown",
   "id": "032ef48e",
   "metadata": {},
   "source": [
    "#### Ejercicio 19: Uso de corutinas con generadores\n",
    "\n",
    "Implementa una corutina que genere números primos secuencialmente cada vez que se le envíe un valor. Usa el método send() para obtener el siguiente número primo."
   ]
  },
  {
   "cell_type": "code",
   "execution_count": null,
   "id": "ed0d2254",
   "metadata": {},
   "outputs": [],
   "source": [
    "## Tu respuesta"
   ]
  },
  {
   "cell_type": "markdown",
   "id": "63ca76d3",
   "metadata": {},
   "source": [
    "#### Ejercicio 20: Programación funcional con map y reduce para procesamiento distribuido\n",
    "\n",
    "Utiliza las funciones map y reduce de la biblioteca functools para encontrar la suma de los cuadrados de una lista de números distribuida entre varios procesos.\n",
    "\n"
   ]
  },
  {
   "cell_type": "code",
   "execution_count": null,
   "id": "1ce7aa69",
   "metadata": {},
   "outputs": [],
   "source": [
    "## Tu respuesta"
   ]
  }
 ],
 "metadata": {
  "kernelspec": {
   "display_name": "Python 3 (ipykernel)",
   "language": "python",
   "name": "python3"
  },
  "language_info": {
   "codemirror_mode": {
    "name": "ipython",
    "version": 3
   },
   "file_extension": ".py",
   "mimetype": "text/x-python",
   "name": "python",
   "nbconvert_exporter": "python",
   "pygments_lexer": "ipython3",
   "version": "3.7.10"
  }
 },
 "nbformat": 4,
 "nbformat_minor": 5
}
